{
 "cells": [
  {
   "cell_type": "code",
   "execution_count": 1,
   "metadata": {},
   "outputs": [],
   "source": [
    "import pandas as pd\n",
    "import numpy as np\n",
    "import matplotlib\n",
    "import os\n",
    "import glob\n",
    "import math\n",
    "import shapefile as shp\n",
    "import re\n",
    "import copy\n",
    "from pyecharts.render import make_snapshot\n",
    "from snapshot_selenium import snapshot\n",
    "from selenium import webdriver\n",
    "from webdriver_manager.chrome import ChromeDriverManager\n",
    "from snapshot_selenium import snapshot as driver\n",
    "\n",
    "from pyecharts import options as opts\n",
    "from pyecharts.charts import Bar\n",
    "from pyecharts.render import make_snapshot\n",
    "# driver = webdriver.Chrome(executable_path='C:/Python38/Scripts/chromedriver.exe')"
   ]
  },
  {
   "cell_type": "code",
   "execution_count": 2,
   "metadata": {
    "collapsed": false,
    "jupyter": {
     "outputs_hidden": false
    },
    "pycharm": {
     "name": "#%%\n"
    }
   },
   "outputs": [
    {
     "name": "stdout",
     "output_type": "stream",
     "text": [
      "8260\n",
      "6401\n"
     ]
    }
   ],
   "source": [
    "users = pd.read_csv('users.csv')\n",
    "users = users[['id', 'gender', 'location', 'fans', 'certified']]\n",
    "print(len(users))\n",
    "users = users.drop_duplicates()\n",
    "print(len(users))"
   ]
  },
  {
   "cell_type": "code",
   "execution_count": 3,
   "metadata": {
    "collapsed": false,
    "jupyter": {
     "outputs_hidden": false
    },
    "pycharm": {
     "name": "#%%\n"
    }
   },
   "outputs": [],
   "source": [
    "# we say if follower has passed 5000 then the account has some influence\n",
    "users_fans = users\n",
    "users['fans'] = users_fans['fans'].apply(lambda x: 0 if x <=5000 else 1)\n",
    "# add new column\n",
    "users['device'] = np.nan\n",
    "users['ban'] = np.nan\n",
    "users['ban_binary'] = np.nan\n",
    "# print(users)"
   ]
  },
  {
   "cell_type": "code",
   "execution_count": 4,
   "metadata": {
    "collapsed": false,
    "jupyter": {
     "outputs_hidden": false
    },
    "pycharm": {
     "name": "#%% fetch the weibo data\n"
    }
   },
   "outputs": [],
   "source": [
    "def findfiles(path):\n",
    "    return glob.glob(path)"
   ]
  },
  {
   "cell_type": "code",
   "execution_count": 5,
   "metadata": {
    "collapsed": false,
    "jupyter": {
     "outputs_hidden": false
    },
    "pycharm": {
     "name": "#%%\n"
    }
   },
   "outputs": [],
   "source": [
    "working_directory = os.getcwd() + '\\\\weibo_1\\\\'\n",
    "weibo_list = findfiles(working_directory + '*')\n"
   ]
  },
  {
   "cell_type": "code",
   "execution_count": 6,
   "metadata": {
    "collapsed": false,
    "jupyter": {
     "outputs_hidden": false
    },
    "pycharm": {
     "name": "#%%\n"
    }
   },
   "outputs": [],
   "source": [
    "# below is for grouping the device\n",
    "for i in weibo_list:\n",
    "    weibo_ = findfiles(i + '\\\\*.csv')\n",
    "    id = os.listdir(i)\n",
    "    id = os.path.splitext(os.path.basename(id[0]))[0]\n",
    "    user_weibo = pd.read_csv(weibo_[0])\n",
    "    device = str(user_weibo['工具'].mode()[0] if not user_weibo['工具'].mode().empty else 'unknown')\n",
    "    users.loc[users['id'] == int(id), ['device']] = device\n"
   ]
  },
  {
   "cell_type": "code",
   "execution_count": 7,
   "metadata": {
    "collapsed": false,
    "jupyter": {
     "outputs_hidden": false
    },
    "pycharm": {
     "name": "#%%\n"
    }
   },
   "outputs": [],
   "source": [
    "# below we process the banning\n",
    "string1 = '抱歉，'\n",
    "string2 = '该微博因被多人投诉'\n",
    "string3 = '该账号因被投诉违反'\n",
    "\n",
    "for i in weibo_list:\n",
    "    weibo_ = findfiles(i + '\\\\*.csv')\n",
    "    id =os.path.splitext(os.path.basename(os.listdir(i)[0]))[0]\n",
    "    user_weibo = pd.read_csv(weibo_[0])\n",
    "    count = 0\n",
    "    for i in user_weibo['源微博正文']:\n",
    "        if string1 in i or string2 in i or string3 in i:\n",
    "            count += 1\n",
    "    users.loc[users['id'] == int(id), ['ban']] = count"
   ]
  },
  {
   "cell_type": "code",
   "execution_count": 8,
   "outputs": [],
   "source": [
    "# add the binary classification of ban\n",
    "users.loc[users['ban']>=1, ['ban_binary']] = True\n",
    "users.loc[users['ban']<1, ['ban_binary']] = False"
   ],
   "metadata": {
    "collapsed": false,
    "pycharm": {
     "name": "#%%\n"
    }
   }
  },
  {
   "cell_type": "code",
   "execution_count": 9,
   "metadata": {
    "collapsed": false,
    "jupyter": {
     "outputs_hidden": false
    },
    "pycharm": {
     "name": "#%%\n"
    }
   },
   "outputs": [],
   "source": [
    "# below is the map processing\n",
    "# we now only do class_one\n",
    "location_ = [i for i in users['location']]\n",
    "locations = [item[:2] if str(item)!= 'nan' else item == '123' for item in location_]\n",
    "\n",
    "locations_ = []\n",
    "for i in locations:\n",
    "    if i != '黑龙':\n",
    "        locations_.append(i)\n",
    "    else:\n",
    "        locations_.append('黑龙江')"
   ]
  },
  {
   "cell_type": "code",
   "execution_count": 10,
   "outputs": [],
   "source": [
    "users['location'] = locations_"
   ],
   "metadata": {
    "collapsed": false,
    "pycharm": {
     "name": "#%%\n"
    }
   }
  },
  {
   "cell_type": "code",
   "execution_count": 11,
   "outputs": [],
   "source": [
    "# below we see how many unique values are there for location\n",
    "users.loc[(users['location']) == False, ['location']] = 'unknown'"
   ],
   "metadata": {
    "collapsed": false,
    "pycharm": {
     "name": "#%%\n"
    }
   }
  },
  {
   "cell_type": "code",
   "execution_count": 12,
   "metadata": {
    "collapsed": false,
    "jupyter": {
     "outputs_hidden": false
    },
    "pycharm": {
     "name": "#%%\n"
    }
   },
   "outputs": [],
   "source": [
    "#map the data(preprocess)\n",
    "users_map = users['location'].unique()\n",
    "index = np.argwhere(users_map=='海外' )\n",
    "index1 = np.argwhere(users_map == 'unknown')\n",
    "index = np.append(index, index1)\n",
    "users_map = np.delete(users_map, index)\n",
    "count_location = users['location'].value_counts()\n",
    "count_location = count_location.drop(labels=['海外', 'unknown', '其他'])\n",
    "count_location = count_location.reset_index().values.tolist()\n",
    "count_location = [tuple(i) for i in count_location]"
   ]
  },
  {
   "cell_type": "code",
   "execution_count": 13,
   "outputs": [],
   "source": [
    "# group by total number of bans based on location\n",
    "count_location_ban = users.groupby('location')['ban'].count()\n",
    "count_location_ban = count_location_ban.drop(labels = ['unknown', '其他','海外'])\n",
    "count_location_ban = count_location_ban.reset_index().values.tolist()\n",
    "\n",
    "count_location_ban = [tuple(i) for i in count_location_ban]"
   ],
   "metadata": {
    "collapsed": false,
    "pycharm": {
     "name": "#%%\n"
    }
   }
  },
  {
   "cell_type": "code",
   "execution_count": 16,
   "outputs": [
    {
     "data": {
      "text/plain": "'C:\\\\Users\\\\pasaa\\\\Desktop\\\\440_data_processing\\\\heat_map_ban.html'"
     },
     "execution_count": 16,
     "metadata": {},
     "output_type": "execute_result"
    }
   ],
   "source": [
    "# mapping of locations based on number of bans respectively\n",
    "# heat map\n",
    "from pyecharts import options as opts\n",
    "from pyecharts.charts import Geo\n",
    "from pyecharts.globals import ChartType\n",
    "geo = (Geo().\n",
    "        add_schema(maptype=\"china\")\n",
    "        .add(\"test\",count_location_ban,type_=ChartType.HEATMAP)\n",
    "        .set_series_opts(label_opts=opts.LabelOpts(is_show=False))\n",
    "        .set_global_opts(\n",
    "            visualmap_opts=opts.VisualMapOpts(),\n",
    "            legend_opts=opts.LegendOpts(is_show=False),\n",
    "            title_opts=opts.TitleOpts(title=\"Heat map of ban users in absolute count\"))\n",
    "      )\n",
    "geo.render('heat_map_ban.html')"
   ],
   "metadata": {
    "collapsed": false,
    "pycharm": {
     "name": "#%%\n"
    }
   }
  },
  {
   "cell_type": "code",
   "execution_count": 15,
   "outputs": [
    {
     "data": {
      "text/plain": "'C:\\\\Users\\\\pasaa\\\\Desktop\\\\440_data_processing\\\\heat_map_raw.html'"
     },
     "execution_count": 15,
     "metadata": {},
     "output_type": "execute_result"
    }
   ],
   "source": [
    "# mapping of raw users' location\n",
    "# heat map\n",
    "from pyecharts import options as opts\n",
    "from pyecharts.charts import Geo\n",
    "from pyecharts.globals import ChartType\n",
    "import random\n",
    "geo = (Geo().\n",
    "        add_schema(maptype=\"china\")\n",
    "        .add(\"test\",count_location,type_=ChartType.HEATMAP)\n",
    "        .set_series_opts(label_opts=opts.LabelOpts(is_show=False))\n",
    "        .set_global_opts(\n",
    "            visualmap_opts=opts.VisualMapOpts(),\n",
    "            legend_opts=opts.LegendOpts(is_show=False),\n",
    "            title_opts=opts.TitleOpts(title=\"Heat map of raw users\"))\n",
    "      )\n",
    "geo.render('heat_map_raw.html')"
   ],
   "metadata": {
    "collapsed": false,
    "pycharm": {
     "name": "#%%\n"
    }
   }
  },
  {
   "cell_type": "code",
   "execution_count": 17,
   "outputs": [],
   "source": [
    "users = users.reset_index()\n",
    "device = copy.copy(users['device'])"
   ],
   "metadata": {
    "collapsed": false,
    "pycharm": {
     "name": "#%%\n"
    }
   }
  },
  {
   "cell_type": "code",
   "execution_count": 18,
   "outputs": [],
   "source": [
    "# grouping of devices\n",
    "for i in range(len(device)):\n",
    "    if any(x in str(device[i]) for x in ['iPhone','Mac']):\n",
    "        device[i] = 'Apple'\n",
    "    elif any(x in str(device[i]) for x in ['浏览器', '微博']):\n",
    "        device[i] = 'web'\n",
    "    elif any(x in str(device[i]) for x in ['小米', 'Redmi']):\n",
    "        device[i] = 'Xiaomi'\n",
    "    elif any(x in str(device[i]) for x in ['Huawei','nova','荣耀','华为','HUAWEI']):\n",
    "        device[i] = 'Huawei'\n",
    "    elif 'OPPO' in str(device[i]):\n",
    "        device[i] = 'Oppo'\n",
    "    elif 'Samsung' in str(device[i]):\n",
    "        device[i] = 'Samsung'\n",
    "    elif 'Nokia' in str(device[i]):\n",
    "        device[i] = 'Nokia'\n",
    "    elif 'vivo' in str(device[i]):\n",
    "        device[i] = 'Vivo'\n",
    "    else:\n",
    "        device[i] = 'else'\n",
    "users['device'] = device"
   ],
   "metadata": {
    "collapsed": false,
    "pycharm": {
     "name": "#%%\n"
    }
   }
  },
  {
   "cell_type": "code",
   "execution_count": 19,
   "outputs": [],
   "source": [
    "# plot of raw_device\n",
    "raw_device_count = users['device'].value_counts().drop(labels='else')\n",
    "raw_device_count= raw_device_count.reset_index().values.tolist()\n",
    "raw_device_count = [tuple(i) for i in raw_device_count]"
   ],
   "metadata": {
    "collapsed": false,
    "pycharm": {
     "name": "#%%\n"
    }
   }
  },
  {
   "cell_type": "code",
   "execution_count": 24,
   "outputs": [],
   "source": [
    "from pyecharts import options as opts\n",
    "from pyecharts.charts import Pie\n",
    "from pyecharts.faker import Faker\n",
    "\n",
    "c = (\n",
    "    Pie()\n",
    "    .add(\n",
    "        \"\",\n",
    "        raw_device_count,\n",
    "        radius=[\"40%\", \"55%\"],\n",
    "        center=[400,300],\n",
    "        label_opts=opts.LabelOpts(\n",
    "            position=\"outside\",\n",
    "            formatter=\"{a|{a}}{abg|}\\n{hr|}\\n {b|{b}: }{c}  {per|{d}%}  \",\n",
    "            background_color=\"#eee\",\n",
    "            border_color=\"#aaa\",\n",
    "            border_width=1,\n",
    "            border_radius=4,\n",
    "            rich={\n",
    "                \"a\": {\"color\": \"#999\", \"lineHeight\": 22, \"align\": \"center\"},\n",
    "                \"abg\": {\n",
    "                    \"backgroundColor\": \"#e3e3e3\",\n",
    "                    \"width\": \"100%\",\n",
    "                    \"align\": \"right\",\n",
    "                    \"height\": 22,\n",
    "                    \"borderRadius\": [4, 4, 0, 0],\n",
    "                },\n",
    "                \"hr\": {\n",
    "                    \"borderColor\": \"#aaa\",\n",
    "                    \"width\": \"100%\",\n",
    "                    \"borderWidth\": 0.5,\n",
    "                    \"height\": 0,\n",
    "                },\n",
    "                \"b\": {\"fontSize\": 16, \"lineHeight\": 33},\n",
    "                \"per\": {\n",
    "                    \"color\": \"#eee\",\n",
    "                    \"backgroundColor\": \"#334455\",\n",
    "                    \"padding\": [2, 4],\n",
    "                    \"borderRadius\": 2,\n",
    "                },\n",
    "            },\n",
    "        ),\n",
    "    )\n",
    "    .set_global_opts(title_opts=opts.TitleOpts(title=\"\\nShare of devices across our sample\"))\n",
    "    .render('raw_device.html')\n",
    ")\n",
    "\n"
   ],
   "metadata": {
    "collapsed": false,
    "pycharm": {
     "name": "#%%\n"
    }
   }
  },
  {
   "cell_type": "code",
   "execution_count": 25,
   "outputs": [
    {
     "data": {
      "text/plain": "[['Apple', 1991.0],\n ['Huawei', 208.0],\n ['Nokia', 1.0],\n ['Oppo', 18.0],\n ['Samsung', 2.0],\n ['Vivo', 26.0],\n ['Xiaomi', 38.0],\n ['web', 724.0]]"
     },
     "execution_count": 25,
     "metadata": {},
     "output_type": "execute_result"
    }
   ],
   "source": [
    "# plot of device_ban\n",
    "device_ban_count = users.groupby('device')['ban'].sum().drop(labels = 'else')\n",
    "device_ban_count = device_ban_count.reset_index().values.tolist()\n",
    "device_ban_count"
   ],
   "metadata": {
    "collapsed": false,
    "pycharm": {
     "name": "#%%\n"
    }
   }
  },
  {
   "cell_type": "code",
   "execution_count": 242,
   "outputs": [],
   "source": [
    "from pyecharts import options as opts\n",
    "from pyecharts.charts import Pie\n",
    "from pyecharts.faker import Faker\n",
    "\n",
    "c = (\n",
    "    Pie()\n",
    "    .add(\n",
    "        \"\",\n",
    "        device_ban_count,\n",
    "        radius=[\"40%\", \"55%\"],\n",
    "        label_opts=opts.LabelOpts(\n",
    "            position=\"outside\",\n",
    "            formatter=\"{a|{a}}{abg|}\\n{hr|}\\n {b|{b}: }{c}  {per|{d}%}  \",\n",
    "            background_color=\"#eee\",\n",
    "            border_color=\"#aaa\",\n",
    "            border_width=1,\n",
    "            border_radius=4,\n",
    "            rich={\n",
    "                \"a\": {\"color\": \"#999\", \"lineHeight\": 22, \"align\": \"center\"},\n",
    "                \"abg\": {\n",
    "                    \"backgroundColor\": \"#e3e3e3\",\n",
    "                    \"width\": \"100%\",\n",
    "                    \"align\": \"right\",\n",
    "                    \"height\": 22,\n",
    "                    \"borderRadius\": [4, 4, 0, 0],\n",
    "                },\n",
    "                \"hr\": {\n",
    "                    \"borderColor\": \"#aaa\",\n",
    "                    \"width\": \"100%\",\n",
    "                    \"borderWidth\": 0.5,\n",
    "                    \"height\": 0,\n",
    "                },\n",
    "                \"b\": {\"fontSize\": 16, \"lineHeight\": 33},\n",
    "                \"per\": {\n",
    "                    \"color\": \"#eee\",\n",
    "                    \"backgroundColor\": \"#334455\",\n",
    "                    \"padding\": [2, 4],\n",
    "                    \"borderRadius\": 2,\n",
    "                },\n",
    "            },\n",
    "        ),\n",
    "    )\n",
    "    .set_global_opts(title_opts=opts.TitleOpts(title=\"\\nShare of the absolute amount of bans across devices\"))\n",
    "    .render(\"device_ban.html\")\n",
    ")"
   ],
   "metadata": {
    "collapsed": false,
    "pycharm": {
     "name": "#%%\n"
    }
   }
  },
  {
   "cell_type": "code",
   "execution_count": 27,
   "outputs": [
    {
     "data": {
      "text/plain": "[['f', 763], ['m', 791]]"
     },
     "execution_count": 27,
     "metadata": {},
     "output_type": "execute_result"
    }
   ],
   "source": [
    "# raw_gender\n",
    "raw_gender_count = users['gender'].value_counts()\n",
    "raw_gender_count = raw_gender_count.reset_index().values.tolist()\n",
    "\n",
    "# plot the gender graph\n",
    "gender_ban = users.groupby('gender')['ban_binary'].sum()\n",
    "gender_ban = gender_ban.reset_index().values.tolist()\n",
    "gender_ban"
   ],
   "metadata": {
    "collapsed": false,
    "pycharm": {
     "name": "#%%\n"
    }
   }
  },
  {
   "cell_type": "code",
   "execution_count": 28,
   "outputs": [],
   "source": [
    "from pyecharts import options as opts\n",
    "from pyecharts.charts import Bar\n",
    "from pyecharts.commons.utils import JsCode\n",
    "from pyecharts.globals import ThemeType\n",
    "# female\n",
    "list2 = [\n",
    "    {\"value\": raw_gender_count[0][1], \"percent\":raw_gender_count[0][1] / (raw_gender_count[0][1] + raw_gender_count[1][1])},\n",
    "    {\"value\": gender_ban[0][1], \"percent\": gender_ban[0][1] / (gender_ban[0][1] + gender_ban[1][1])}\n",
    "]\n",
    "#male\n",
    "list3 = [\n",
    "    {\"value\":raw_gender_count[1][1] , \"percent\": raw_gender_count[1][1] / (raw_gender_count[0][1] + raw_gender_count[1][1])},\n",
    "    {\"value\": gender_ban[1][1], \"percent\": gender_ban[1][1] / (gender_ban[0][1] + gender_ban[1][1])}\n",
    "]\n",
    "\n",
    "c = (\n",
    "    Bar(init_opts=opts.InitOpts(theme=ThemeType.LIGHT))\n",
    "    .add_xaxis(['Raw','Censorship'])\n",
    "    .add_yaxis(\"Female\", list2, stack=\"stack1\", category_gap=\"50%\")\n",
    "    .add_yaxis(\"Male\", list3, stack=\"stack1\", category_gap=\"50%\")\n",
    "    .set_series_opts(\n",
    "        label_opts=opts.LabelOpts(\n",
    "            position=\"right\",\n",
    "            formatter=JsCode(\n",
    "                \"function(x){return Number(x.data.percent * 100).toFixed() + '%';}\"\n",
    "            ),\n",
    "        )\n",
    "    )\n",
    "    .render(\"gender.html\")\n",
    ")\n"
   ],
   "metadata": {
    "collapsed": false,
    "pycharm": {
     "name": "#%%\n"
    }
   }
  },
  {
   "cell_type": "code",
   "execution_count": 29,
   "outputs": [],
   "source": [
    "# one-hot encode the data\n",
    "\n",
    "from textblob import TextBlob\n",
    "unique_locations = users['location'].unique()\n",
    "unique_locations[16] = '未知'\n",
    "recode_unique_locations = []"
   ],
   "metadata": {
    "collapsed": false,
    "pycharm": {
     "name": "#%%\n"
    }
   }
  },
  {
   "cell_type": "code",
   "execution_count": 30,
   "outputs": [],
   "source": [
    "for i in unique_locations:\n",
    "    blob = TextBlob('%s'%i)\n",
    "    trans = str(blob.translate(to='en'))\n",
    "    recode_unique_locations.append(trans)"
   ],
   "metadata": {
    "collapsed": false,
    "pycharm": {
     "name": "#%%\n"
    }
   }
  },
  {
   "cell_type": "code",
   "execution_count": 31,
   "outputs": [
    {
     "data": {
      "text/plain": "['overseas',\n 'Beijing',\n 'Hubei',\n 'Zhejiang',\n 'Guangdong',\n 'Shanghai',\n 'Sichuan',\n 'Shaanxi',\n 'Yunnan',\n 'other',\n 'Jiangsu',\n 'Taiwan',\n 'Shandong',\n 'Tianjin',\n 'Hunan',\n 'Fujian',\n 'unknown',\n 'Guangxi',\n 'Henan',\n 'Chongqing',\n 'Xinjiang',\n 'Hong Kong',\n 'Hebei',\n 'Qinghai',\n 'Liaoning',\n 'Jilin',\n 'Heilongjiang',\n 'Anhui',\n 'Guizhou',\n 'Shanxi',\n 'Gansu',\n 'Jiangxi',\n 'Inner Mongolia',\n 'Ningxia',\n 'Tibet',\n 'Macao',\n 'Hainan']"
     },
     "execution_count": 31,
     "metadata": {},
     "output_type": "execute_result"
    }
   ],
   "source": [
    "recode_unique_locations"
   ],
   "metadata": {
    "collapsed": false,
    "pycharm": {
     "name": "#%%\n"
    }
   }
  },
  {
   "cell_type": "code",
   "execution_count": 32,
   "outputs": [],
   "source": [
    "trans_dict = {}\n",
    "for i in range(len(unique_locations)):\n",
    "    trans_dict[unique_locations[i]] = recode_unique_locations[i]\n",
    "\n",
    "\n",
    "train_user = users.loc[(users['ban_binary'] == True) | (users['ban_binary'] == False)]\n",
    "\n",
    "del train_user['id']\n",
    "del train_user['index']\n",
    "train_user = train_user.reset_index(drop= True)\n",
    "train_user.loc[train_user['location'] == 'unknown', ['location']] = '未知'\n",
    "recode_location = []\n",
    "for i in train_user['location']:\n",
    "    recode_location.append(trans_dict[i])\n",
    "\n",
    "train_user['location'] = recode_location"
   ],
   "metadata": {
    "collapsed": false,
    "pycharm": {
     "name": "#%%\n"
    }
   }
  },
  {
   "cell_type": "code",
   "execution_count": 33,
   "outputs": [],
   "source": [
    "# one-hot encoding\n",
    "train_user = pd.concat([train_user, pd.get_dummies(train_user['location'], prefix = 'location')], axis = 1)\n",
    "train_user.drop(['location'], axis = 1, inplace = True)"
   ],
   "metadata": {
    "collapsed": false,
    "pycharm": {
     "name": "#%%\n"
    }
   }
  },
  {
   "cell_type": "code",
   "execution_count": 34,
   "outputs": [],
   "source": [
    "train_user = pd.concat([train_user, pd.get_dummies(train_user['device'], prefix = 'device')], axis = 1)\n",
    "train_user.drop(['device'], axis = 1, inplace = True)"
   ],
   "metadata": {
    "collapsed": false,
    "pycharm": {
     "name": "#%%\n"
    }
   }
  },
  {
   "cell_type": "code",
   "execution_count": 35,
   "outputs": [
    {
     "data": {
      "text/plain": "     gender  fans certified  ban ban_binary  location_Anhui  location_Beijing  \\\n0         0     1         1  0.0      False               0                 0   \n1         1     0         0  0.0      False               0                 0   \n2         0     1         1  0.0      False               0                 1   \n3         1     1         0  0.0      False               0                 0   \n4         0     1         1  0.0      False               0                 0   \n...     ...   ...       ...  ...        ...             ...               ...   \n5168      0     1         1  0.0      False               0                 0   \n5169      1     1         1  6.0       True               0                 0   \n5170      1     1         1  0.0      False               0                 0   \n5171      0     1         1  0.0      False               0                 0   \n5172      0     1         1  0.0      False               0                 0   \n\n      location_Chongqing  location_Fujian  location_Gansu  ...  \\\n0                      0                0               0  ...   \n1                      0                0               0  ...   \n2                      0                0               0  ...   \n3                      0                0               0  ...   \n4                      0                0               0  ...   \n...                  ...              ...             ...  ...   \n5168                   0                0               0  ...   \n5169                   0                0               0  ...   \n5170                   0                0               0  ...   \n5171                   0                0               0  ...   \n5172                   0                0               0  ...   \n\n      location_unknown  device_Apple  device_Huawei  device_Nokia  \\\n0                    0             0              0             0   \n1                    0             1              0             0   \n2                    0             0              0             0   \n3                    0             1              0             0   \n4                    0             1              0             0   \n...                ...           ...            ...           ...   \n5168                 0             0              0             0   \n5169                 0             0              0             0   \n5170                 0             0              0             0   \n5171                 0             0              0             0   \n5172                 0             0              1             0   \n\n      device_Oppo  device_Samsung  device_Vivo  device_Xiaomi  device_else  \\\n0               0               0            0              0            0   \n1               0               0            0              0            0   \n2               0               0            0              0            0   \n3               0               0            0              0            0   \n4               0               0            0              0            0   \n...           ...             ...          ...            ...          ...   \n5168            0               0            0              0            0   \n5169            0               0            0              0            0   \n5170            0               0            0              0            0   \n5171            0               0            0              0            0   \n5172            0               0            0              0            0   \n\n      device_web  \n0              1  \n1              0  \n2              1  \n3              0  \n4              0  \n...          ...  \n5168           1  \n5169           1  \n5170           1  \n5171           1  \n5172           0  \n\n[5173 rows x 50 columns]",
      "text/html": "<div>\n<style scoped>\n    .dataframe tbody tr th:only-of-type {\n        vertical-align: middle;\n    }\n\n    .dataframe tbody tr th {\n        vertical-align: top;\n    }\n\n    .dataframe thead th {\n        text-align: right;\n    }\n</style>\n<table border=\"1\" class=\"dataframe\">\n  <thead>\n    <tr style=\"text-align: right;\">\n      <th></th>\n      <th>gender</th>\n      <th>fans</th>\n      <th>certified</th>\n      <th>ban</th>\n      <th>ban_binary</th>\n      <th>location_Anhui</th>\n      <th>location_Beijing</th>\n      <th>location_Chongqing</th>\n      <th>location_Fujian</th>\n      <th>location_Gansu</th>\n      <th>...</th>\n      <th>location_unknown</th>\n      <th>device_Apple</th>\n      <th>device_Huawei</th>\n      <th>device_Nokia</th>\n      <th>device_Oppo</th>\n      <th>device_Samsung</th>\n      <th>device_Vivo</th>\n      <th>device_Xiaomi</th>\n      <th>device_else</th>\n      <th>device_web</th>\n    </tr>\n  </thead>\n  <tbody>\n    <tr>\n      <th>0</th>\n      <td>0</td>\n      <td>1</td>\n      <td>1</td>\n      <td>0.0</td>\n      <td>False</td>\n      <td>0</td>\n      <td>0</td>\n      <td>0</td>\n      <td>0</td>\n      <td>0</td>\n      <td>...</td>\n      <td>0</td>\n      <td>0</td>\n      <td>0</td>\n      <td>0</td>\n      <td>0</td>\n      <td>0</td>\n      <td>0</td>\n      <td>0</td>\n      <td>0</td>\n      <td>1</td>\n    </tr>\n    <tr>\n      <th>1</th>\n      <td>1</td>\n      <td>0</td>\n      <td>0</td>\n      <td>0.0</td>\n      <td>False</td>\n      <td>0</td>\n      <td>0</td>\n      <td>0</td>\n      <td>0</td>\n      <td>0</td>\n      <td>...</td>\n      <td>0</td>\n      <td>1</td>\n      <td>0</td>\n      <td>0</td>\n      <td>0</td>\n      <td>0</td>\n      <td>0</td>\n      <td>0</td>\n      <td>0</td>\n      <td>0</td>\n    </tr>\n    <tr>\n      <th>2</th>\n      <td>0</td>\n      <td>1</td>\n      <td>1</td>\n      <td>0.0</td>\n      <td>False</td>\n      <td>0</td>\n      <td>1</td>\n      <td>0</td>\n      <td>0</td>\n      <td>0</td>\n      <td>...</td>\n      <td>0</td>\n      <td>0</td>\n      <td>0</td>\n      <td>0</td>\n      <td>0</td>\n      <td>0</td>\n      <td>0</td>\n      <td>0</td>\n      <td>0</td>\n      <td>1</td>\n    </tr>\n    <tr>\n      <th>3</th>\n      <td>1</td>\n      <td>1</td>\n      <td>0</td>\n      <td>0.0</td>\n      <td>False</td>\n      <td>0</td>\n      <td>0</td>\n      <td>0</td>\n      <td>0</td>\n      <td>0</td>\n      <td>...</td>\n      <td>0</td>\n      <td>1</td>\n      <td>0</td>\n      <td>0</td>\n      <td>0</td>\n      <td>0</td>\n      <td>0</td>\n      <td>0</td>\n      <td>0</td>\n      <td>0</td>\n    </tr>\n    <tr>\n      <th>4</th>\n      <td>0</td>\n      <td>1</td>\n      <td>1</td>\n      <td>0.0</td>\n      <td>False</td>\n      <td>0</td>\n      <td>0</td>\n      <td>0</td>\n      <td>0</td>\n      <td>0</td>\n      <td>...</td>\n      <td>0</td>\n      <td>1</td>\n      <td>0</td>\n      <td>0</td>\n      <td>0</td>\n      <td>0</td>\n      <td>0</td>\n      <td>0</td>\n      <td>0</td>\n      <td>0</td>\n    </tr>\n    <tr>\n      <th>...</th>\n      <td>...</td>\n      <td>...</td>\n      <td>...</td>\n      <td>...</td>\n      <td>...</td>\n      <td>...</td>\n      <td>...</td>\n      <td>...</td>\n      <td>...</td>\n      <td>...</td>\n      <td>...</td>\n      <td>...</td>\n      <td>...</td>\n      <td>...</td>\n      <td>...</td>\n      <td>...</td>\n      <td>...</td>\n      <td>...</td>\n      <td>...</td>\n      <td>...</td>\n      <td>...</td>\n    </tr>\n    <tr>\n      <th>5168</th>\n      <td>0</td>\n      <td>1</td>\n      <td>1</td>\n      <td>0.0</td>\n      <td>False</td>\n      <td>0</td>\n      <td>0</td>\n      <td>0</td>\n      <td>0</td>\n      <td>0</td>\n      <td>...</td>\n      <td>0</td>\n      <td>0</td>\n      <td>0</td>\n      <td>0</td>\n      <td>0</td>\n      <td>0</td>\n      <td>0</td>\n      <td>0</td>\n      <td>0</td>\n      <td>1</td>\n    </tr>\n    <tr>\n      <th>5169</th>\n      <td>1</td>\n      <td>1</td>\n      <td>1</td>\n      <td>6.0</td>\n      <td>True</td>\n      <td>0</td>\n      <td>0</td>\n      <td>0</td>\n      <td>0</td>\n      <td>0</td>\n      <td>...</td>\n      <td>0</td>\n      <td>0</td>\n      <td>0</td>\n      <td>0</td>\n      <td>0</td>\n      <td>0</td>\n      <td>0</td>\n      <td>0</td>\n      <td>0</td>\n      <td>1</td>\n    </tr>\n    <tr>\n      <th>5170</th>\n      <td>1</td>\n      <td>1</td>\n      <td>1</td>\n      <td>0.0</td>\n      <td>False</td>\n      <td>0</td>\n      <td>0</td>\n      <td>0</td>\n      <td>0</td>\n      <td>0</td>\n      <td>...</td>\n      <td>0</td>\n      <td>0</td>\n      <td>0</td>\n      <td>0</td>\n      <td>0</td>\n      <td>0</td>\n      <td>0</td>\n      <td>0</td>\n      <td>0</td>\n      <td>1</td>\n    </tr>\n    <tr>\n      <th>5171</th>\n      <td>0</td>\n      <td>1</td>\n      <td>1</td>\n      <td>0.0</td>\n      <td>False</td>\n      <td>0</td>\n      <td>0</td>\n      <td>0</td>\n      <td>0</td>\n      <td>0</td>\n      <td>...</td>\n      <td>0</td>\n      <td>0</td>\n      <td>0</td>\n      <td>0</td>\n      <td>0</td>\n      <td>0</td>\n      <td>0</td>\n      <td>0</td>\n      <td>0</td>\n      <td>1</td>\n    </tr>\n    <tr>\n      <th>5172</th>\n      <td>0</td>\n      <td>1</td>\n      <td>1</td>\n      <td>0.0</td>\n      <td>False</td>\n      <td>0</td>\n      <td>0</td>\n      <td>0</td>\n      <td>0</td>\n      <td>0</td>\n      <td>...</td>\n      <td>0</td>\n      <td>0</td>\n      <td>1</td>\n      <td>0</td>\n      <td>0</td>\n      <td>0</td>\n      <td>0</td>\n      <td>0</td>\n      <td>0</td>\n      <td>0</td>\n    </tr>\n  </tbody>\n</table>\n<p>5173 rows × 50 columns</p>\n</div>"
     },
     "execution_count": 35,
     "metadata": {},
     "output_type": "execute_result"
    }
   ],
   "source": [
    "train_user.loc[train_user['gender']=='m',['gender']] = 0\n",
    "train_user.loc[train_user['gender']=='f',['gender']] = 1\n",
    "train_user.loc[train_user['certified']==True,['certified']] = 1\n",
    "train_user.loc[train_user['certified']==False,['certified']] = 0\n",
    "train_user"
   ],
   "metadata": {
    "collapsed": false,
    "pycharm": {
     "name": "#%%\n"
    }
   }
  },
  {
   "cell_type": "code",
   "execution_count": 36,
   "outputs": [],
   "source": [
    "mean = train_user['ban'].mean()\n",
    "std = train_user['ban'].std()\n",
    "\n",
    "ban_class = []\n",
    "ban_num = users['ban']\n",
    "for i in ban_num:\n",
    "    if i >= mean + std and i <mean + 2* std:\n",
    "        ban_class.append('Probably')\n",
    "    elif i>= mean + 2*std:\n",
    "        ban_class.append('Very likely')\n",
    "    elif i < mean + std and i >= mean:\n",
    "        ban_class.append('Possibly')\n",
    "    elif i < mean and i >= 0:\n",
    "        ban_class.append('Rarely')\n",
    "train_user['ban'] = ban_class"
   ],
   "metadata": {
    "collapsed": false,
    "pycharm": {
     "name": "#%%\n"
    }
   }
  },
  {
   "cell_type": "code",
   "execution_count": 37,
   "outputs": [],
   "source": [
    "train_user_binary = train_user.drop(columns=['ban'])\n",
    "train_user_binary.to_csv('train_binary.csv')"
   ],
   "metadata": {
    "collapsed": false,
    "pycharm": {
     "name": "#%%\n"
    }
   }
  },
  {
   "cell_type": "code",
   "execution_count": 38,
   "outputs": [],
   "source": [
    "train_user_multi = train_user.drop(columns=['ban_binary'])\n",
    "train_user_multi.to_csv('train_multi.csv')"
   ],
   "metadata": {
    "collapsed": false,
    "pycharm": {
     "name": "#%%\n"
    }
   }
  },
  {
   "cell_type": "code",
   "execution_count": 39,
   "outputs": [
    {
     "data": {
      "text/plain": "     gender location  fans  certified  device  ban ban_binary\n0         m       海外     1       True     web  0.0      False\n1         f       海外     0      False   Apple  0.0      False\n2         m       北京     1       True     web  0.0      False\n3         f       湖北     1      False   Apple  0.0      False\n4         m       海外     1       True   Apple  0.0      False\n...     ...      ...   ...        ...     ...  ...        ...\n5168      m       海外     1       True     web  0.0      False\n5169      f       海外     1       True     web  6.0       True\n5170      f       其他     1       True     web  0.0      False\n5171      m       湖北     1       True     web  0.0      False\n5172      m       浙江     1       True  Huawei  0.0      False\n\n[5173 rows x 7 columns]",
      "text/html": "<div>\n<style scoped>\n    .dataframe tbody tr th:only-of-type {\n        vertical-align: middle;\n    }\n\n    .dataframe tbody tr th {\n        vertical-align: top;\n    }\n\n    .dataframe thead th {\n        text-align: right;\n    }\n</style>\n<table border=\"1\" class=\"dataframe\">\n  <thead>\n    <tr style=\"text-align: right;\">\n      <th></th>\n      <th>gender</th>\n      <th>location</th>\n      <th>fans</th>\n      <th>certified</th>\n      <th>device</th>\n      <th>ban</th>\n      <th>ban_binary</th>\n    </tr>\n  </thead>\n  <tbody>\n    <tr>\n      <th>0</th>\n      <td>m</td>\n      <td>海外</td>\n      <td>1</td>\n      <td>True</td>\n      <td>web</td>\n      <td>0.0</td>\n      <td>False</td>\n    </tr>\n    <tr>\n      <th>1</th>\n      <td>f</td>\n      <td>海外</td>\n      <td>0</td>\n      <td>False</td>\n      <td>Apple</td>\n      <td>0.0</td>\n      <td>False</td>\n    </tr>\n    <tr>\n      <th>2</th>\n      <td>m</td>\n      <td>北京</td>\n      <td>1</td>\n      <td>True</td>\n      <td>web</td>\n      <td>0.0</td>\n      <td>False</td>\n    </tr>\n    <tr>\n      <th>3</th>\n      <td>f</td>\n      <td>湖北</td>\n      <td>1</td>\n      <td>False</td>\n      <td>Apple</td>\n      <td>0.0</td>\n      <td>False</td>\n    </tr>\n    <tr>\n      <th>4</th>\n      <td>m</td>\n      <td>海外</td>\n      <td>1</td>\n      <td>True</td>\n      <td>Apple</td>\n      <td>0.0</td>\n      <td>False</td>\n    </tr>\n    <tr>\n      <th>...</th>\n      <td>...</td>\n      <td>...</td>\n      <td>...</td>\n      <td>...</td>\n      <td>...</td>\n      <td>...</td>\n      <td>...</td>\n    </tr>\n    <tr>\n      <th>5168</th>\n      <td>m</td>\n      <td>海外</td>\n      <td>1</td>\n      <td>True</td>\n      <td>web</td>\n      <td>0.0</td>\n      <td>False</td>\n    </tr>\n    <tr>\n      <th>5169</th>\n      <td>f</td>\n      <td>海外</td>\n      <td>1</td>\n      <td>True</td>\n      <td>web</td>\n      <td>6.0</td>\n      <td>True</td>\n    </tr>\n    <tr>\n      <th>5170</th>\n      <td>f</td>\n      <td>其他</td>\n      <td>1</td>\n      <td>True</td>\n      <td>web</td>\n      <td>0.0</td>\n      <td>False</td>\n    </tr>\n    <tr>\n      <th>5171</th>\n      <td>m</td>\n      <td>湖北</td>\n      <td>1</td>\n      <td>True</td>\n      <td>web</td>\n      <td>0.0</td>\n      <td>False</td>\n    </tr>\n    <tr>\n      <th>5172</th>\n      <td>m</td>\n      <td>浙江</td>\n      <td>1</td>\n      <td>True</td>\n      <td>Huawei</td>\n      <td>0.0</td>\n      <td>False</td>\n    </tr>\n  </tbody>\n</table>\n<p>5173 rows × 7 columns</p>\n</div>"
     },
     "execution_count": 39,
     "metadata": {},
     "output_type": "execute_result"
    }
   ],
   "source": [
    "#advanced analysis\n",
    "users_advanced = users[(users['ban_binary'] == True) | (users['ban_binary'] == False)]\n",
    "users_advanced = users_advanced.drop(columns=['id', 'index'])\n",
    "users_advanced = users_advanced.reset_index(drop = True)\n",
    "users_advanced"
   ],
   "metadata": {
    "collapsed": false,
    "pycharm": {
     "name": "#%%\n"
    }
   }
  },
  {
   "cell_type": "code",
   "execution_count": 40,
   "outputs": [
    {
     "data": {
      "text/plain": "     gender location  fans  certified  device  ban ban_binary   ban_extent\n0         m       海外     1       True     web  0.0      False       Rarely\n1         f       海外     0      False   Apple  0.0      False       Rarely\n2         m       北京     1       True     web  0.0      False       Rarely\n3         f       湖北     1      False   Apple  0.0      False       Rarely\n4         m       海外     1       True   Apple  0.0      False       Rarely\n...     ...      ...   ...        ...     ...  ...        ...          ...\n5168      m       海外     1       True     web  0.0      False       Rarely\n5169      f       海外     1       True     web  6.0       True  Very likely\n5170      f       其他     1       True     web  0.0      False       Rarely\n5171      m       湖北     1       True     web  0.0      False       Rarely\n5172      m       浙江     1       True  Huawei  0.0      False       Rarely\n\n[5173 rows x 8 columns]",
      "text/html": "<div>\n<style scoped>\n    .dataframe tbody tr th:only-of-type {\n        vertical-align: middle;\n    }\n\n    .dataframe tbody tr th {\n        vertical-align: top;\n    }\n\n    .dataframe thead th {\n        text-align: right;\n    }\n</style>\n<table border=\"1\" class=\"dataframe\">\n  <thead>\n    <tr style=\"text-align: right;\">\n      <th></th>\n      <th>gender</th>\n      <th>location</th>\n      <th>fans</th>\n      <th>certified</th>\n      <th>device</th>\n      <th>ban</th>\n      <th>ban_binary</th>\n      <th>ban_extent</th>\n    </tr>\n  </thead>\n  <tbody>\n    <tr>\n      <th>0</th>\n      <td>m</td>\n      <td>海外</td>\n      <td>1</td>\n      <td>True</td>\n      <td>web</td>\n      <td>0.0</td>\n      <td>False</td>\n      <td>Rarely</td>\n    </tr>\n    <tr>\n      <th>1</th>\n      <td>f</td>\n      <td>海外</td>\n      <td>0</td>\n      <td>False</td>\n      <td>Apple</td>\n      <td>0.0</td>\n      <td>False</td>\n      <td>Rarely</td>\n    </tr>\n    <tr>\n      <th>2</th>\n      <td>m</td>\n      <td>北京</td>\n      <td>1</td>\n      <td>True</td>\n      <td>web</td>\n      <td>0.0</td>\n      <td>False</td>\n      <td>Rarely</td>\n    </tr>\n    <tr>\n      <th>3</th>\n      <td>f</td>\n      <td>湖北</td>\n      <td>1</td>\n      <td>False</td>\n      <td>Apple</td>\n      <td>0.0</td>\n      <td>False</td>\n      <td>Rarely</td>\n    </tr>\n    <tr>\n      <th>4</th>\n      <td>m</td>\n      <td>海外</td>\n      <td>1</td>\n      <td>True</td>\n      <td>Apple</td>\n      <td>0.0</td>\n      <td>False</td>\n      <td>Rarely</td>\n    </tr>\n    <tr>\n      <th>...</th>\n      <td>...</td>\n      <td>...</td>\n      <td>...</td>\n      <td>...</td>\n      <td>...</td>\n      <td>...</td>\n      <td>...</td>\n      <td>...</td>\n    </tr>\n    <tr>\n      <th>5168</th>\n      <td>m</td>\n      <td>海外</td>\n      <td>1</td>\n      <td>True</td>\n      <td>web</td>\n      <td>0.0</td>\n      <td>False</td>\n      <td>Rarely</td>\n    </tr>\n    <tr>\n      <th>5169</th>\n      <td>f</td>\n      <td>海外</td>\n      <td>1</td>\n      <td>True</td>\n      <td>web</td>\n      <td>6.0</td>\n      <td>True</td>\n      <td>Very likely</td>\n    </tr>\n    <tr>\n      <th>5170</th>\n      <td>f</td>\n      <td>其他</td>\n      <td>1</td>\n      <td>True</td>\n      <td>web</td>\n      <td>0.0</td>\n      <td>False</td>\n      <td>Rarely</td>\n    </tr>\n    <tr>\n      <th>5171</th>\n      <td>m</td>\n      <td>湖北</td>\n      <td>1</td>\n      <td>True</td>\n      <td>web</td>\n      <td>0.0</td>\n      <td>False</td>\n      <td>Rarely</td>\n    </tr>\n    <tr>\n      <th>5172</th>\n      <td>m</td>\n      <td>浙江</td>\n      <td>1</td>\n      <td>True</td>\n      <td>Huawei</td>\n      <td>0.0</td>\n      <td>False</td>\n      <td>Rarely</td>\n    </tr>\n  </tbody>\n</table>\n<p>5173 rows × 8 columns</p>\n</div>"
     },
     "execution_count": 40,
     "metadata": {},
     "output_type": "execute_result"
    }
   ],
   "source": [
    "ban_class = []\n",
    "ban_num = users_advanced['ban']\n",
    "for i in ban_num:\n",
    "    if i >= mean + std and i <mean + 2* std:\n",
    "        ban_class.append('Probably')\n",
    "    elif i>= mean + 2*std:\n",
    "        ban_class.append('Very likely')\n",
    "    elif i < mean + std and i >= mean:\n",
    "        ban_class.append('Possibly')\n",
    "    elif i < mean and i >= 0:\n",
    "        ban_class.append('Rarely')\n",
    "users_advanced['ban_extent'] = ban_class\n",
    "users_advanced"
   ],
   "metadata": {
    "collapsed": false,
    "pycharm": {
     "name": "#%%\n"
    }
   }
  },
  {
   "cell_type": "code",
   "execution_count": 41,
   "outputs": [],
   "source": [
    "# certified\n",
    "certified_ban = users_advanced.groupby('certified')['ban_binary'].value_counts()\n",
    "# below is uncertified users\n",
    "uncertified = certified_ban[0]\n",
    "uncertified_false = uncertified[0]\n",
    "uncertified_false = uncertified[1]\n",
    "uncer = uncertified.values.tolist()\n",
    "# below is certified users\n",
    "certified = certified_ban[1]\n",
    "certified_false = certified[0]\n",
    "certified_true = certified[1]\n",
    "cer = certified.values.tolist()\n",
    "cer = [('False', cer[0]),('True', cer[1])]\n",
    "uncer = [('False', uncer[0]),('True', uncer[1])]"
   ],
   "metadata": {
    "collapsed": false,
    "pycharm": {
     "name": "#%%\n"
    }
   }
  },
  {
   "cell_type": "code",
   "execution_count": 229,
   "outputs": [],
   "source": [
    "from pyecharts import options as opts\n",
    "from pyecharts.charts import Pie\n",
    "from pyecharts.faker import Faker\n",
    "\n",
    "c = (\n",
    "    Pie()\n",
    "    .add(\"\", cer)\n",
    "    .set_colors([\"blue\", \"green\"])\n",
    "    .set_global_opts(title_opts=opts.TitleOpts(title=\"Certified users ban case\"))\n",
    "    .set_series_opts(label_opts=opts.LabelOpts(formatter=\"{b}: {c}\"))\n",
    "    .render(\"certified_ban.html\")\n",
    ")"
   ],
   "metadata": {
    "collapsed": false,
    "pycharm": {
     "name": "#%% mapping\n"
    }
   }
  },
  {
   "cell_type": "code",
   "execution_count": 230,
   "outputs": [],
   "source": [
    "# as comparison\n",
    "from pyecharts import options as opts\n",
    "from pyecharts.charts import Pie\n",
    "from pyecharts.faker import Faker\n",
    "\n",
    "c = (\n",
    "    Pie()\n",
    "    .add(\"\", uncer)\n",
    "    .set_colors([\"blue\", \"green\"])\n",
    "    .set_global_opts(title_opts=opts.TitleOpts(title=\"Uncertified users ban case\"))\n",
    "    .set_series_opts(label_opts=opts.LabelOpts(formatter=\"{b}: {c}\"))\n",
    "    .render(\"uncertified_ban.html\")\n",
    ")"
   ],
   "metadata": {
    "collapsed": false,
    "pycharm": {
     "name": "#%%\n"
    }
   }
  },
  {
   "cell_type": "code",
   "execution_count": 44,
   "outputs": [],
   "source": [
    "fans_ban = users_advanced.groupby('fans')['ban_binary'].value_counts()\n",
    "unfan = fans_ban[0]\n",
    "fan = fans_ban[1]\n",
    "unfan = unfan.values.tolist()\n",
    "fan = fan.values.tolist()\n",
    "fan_false = [('False', fan[0]), ('True', fan[1])]\n",
    "fan_true = [('False', unfan[0]), ('True', unfan[1])]"
   ],
   "metadata": {
    "collapsed": false,
    "pycharm": {
     "name": "#%%\n"
    }
   }
  },
  {
   "cell_type": "code",
   "execution_count": 45,
   "outputs": [
    {
     "data": {
      "text/plain": "fans  ban_binary\n0     False          544\n      True           309\n1     False         3075\n      True          1245\nName: ban_binary, dtype: int64"
     },
     "execution_count": 45,
     "metadata": {},
     "output_type": "execute_result"
    }
   ],
   "source": [
    "fans_ban"
   ],
   "metadata": {
    "collapsed": false,
    "pycharm": {
     "name": "#%%\n"
    }
   }
  },
  {
   "cell_type": "code",
   "execution_count": 48,
   "outputs": [],
   "source": [
    "from pyecharts import options as opts\n",
    "from pyecharts.charts import Pie\n",
    "from pyecharts.faker import Faker\n",
    "\n",
    "c = (\n",
    "    Pie()\n",
    "    .add(\"\", fan_true)\n",
    "    .set_colors([\"orange\", \"red\"])\n",
    "    .set_global_opts(title_opts=opts.TitleOpts(title=\"\\nUsers with less than 5000 followers ban case\"))\n",
    "    .set_series_opts(label_opts=opts.LabelOpts(formatter=\"{b}: {c}\"))\n",
    "    .render(\"unfan_ban.html\")\n",
    ")"
   ],
   "metadata": {
    "collapsed": false,
    "pycharm": {
     "name": "#%%\n"
    }
   }
  },
  {
   "cell_type": "code",
   "execution_count": 47,
   "outputs": [],
   "source": [
    "from pyecharts import options as opts\n",
    "from pyecharts.charts import Pie\n",
    "from pyecharts.faker import Faker\n",
    "\n",
    "c = (\n",
    "    Pie()\n",
    "    .add(\"\", fan_false)\n",
    "    .set_colors([\"orange\", \"red\"])\n",
    "    .set_global_opts(title_opts=opts.TitleOpts(title=\"Users with over 5000 followers ban case\"))\n",
    "    .set_series_opts(label_opts=opts.LabelOpts(formatter=\"{b}: {c}\"))\n",
    "    .render(\"fan_ban.html\")\n",
    ")"
   ],
   "metadata": {
    "collapsed": false,
    "pycharm": {
     "name": "#%%\n"
    }
   }
  },
  {
   "cell_type": "code",
   "execution_count": 49,
   "metadata": {
    "collapsed": false,
    "jupyter": {
     "outputs_hidden": false
    },
    "pycharm": {
     "name": "#%%\n"
    }
   },
   "outputs": [],
   "source": [
    "location_extent = users_advanced.groupby('location')['ban_extent'].value_counts()\n",
    "location_extent = location_extent.to_frame()\n",
    "# get the top 5 areas where bans appear most\n",
    "top_5_area = users_advanced.groupby('location')['ban'].count().sort_values(ascending=False).reset_index()\n",
    "top_5_area = top_5_area[top_5_area['location'] != '其他']\n",
    "\n",
    "top_5_area = top_5_area.head(5)\n",
    "location_5 = top_5_area['location']"
   ]
  },
  {
   "cell_type": "code",
   "execution_count": 50,
   "outputs": [
    {
     "data": {
      "text/plain": "   location   ban_extent  counts\n0        上海       Rarely     415\n1        上海     Possibly     152\n2        上海     Probably      19\n3        上海  Very likely      16\n4        北京       Rarely     916\n5        北京     Possibly     294\n6        北京  Very likely      50\n7        北京     Probably      49\n8        广东       Rarely     247\n9        广东     Possibly      91\n10       广东  Very likely      16\n11       广东     Probably      14\n12       浙江       Rarely     196\n13       浙江     Possibly      46\n14       浙江  Very likely      14\n15       浙江     Probably       8\n16       海外       Rarely     728\n17       海外     Possibly     218\n18       海外  Very likely      52\n19       海外     Probably      35",
      "text/html": "<div>\n<style scoped>\n    .dataframe tbody tr th:only-of-type {\n        vertical-align: middle;\n    }\n\n    .dataframe tbody tr th {\n        vertical-align: top;\n    }\n\n    .dataframe thead th {\n        text-align: right;\n    }\n</style>\n<table border=\"1\" class=\"dataframe\">\n  <thead>\n    <tr style=\"text-align: right;\">\n      <th></th>\n      <th>location</th>\n      <th>ban_extent</th>\n      <th>counts</th>\n    </tr>\n  </thead>\n  <tbody>\n    <tr>\n      <th>0</th>\n      <td>上海</td>\n      <td>Rarely</td>\n      <td>415</td>\n    </tr>\n    <tr>\n      <th>1</th>\n      <td>上海</td>\n      <td>Possibly</td>\n      <td>152</td>\n    </tr>\n    <tr>\n      <th>2</th>\n      <td>上海</td>\n      <td>Probably</td>\n      <td>19</td>\n    </tr>\n    <tr>\n      <th>3</th>\n      <td>上海</td>\n      <td>Very likely</td>\n      <td>16</td>\n    </tr>\n    <tr>\n      <th>4</th>\n      <td>北京</td>\n      <td>Rarely</td>\n      <td>916</td>\n    </tr>\n    <tr>\n      <th>5</th>\n      <td>北京</td>\n      <td>Possibly</td>\n      <td>294</td>\n    </tr>\n    <tr>\n      <th>6</th>\n      <td>北京</td>\n      <td>Very likely</td>\n      <td>50</td>\n    </tr>\n    <tr>\n      <th>7</th>\n      <td>北京</td>\n      <td>Probably</td>\n      <td>49</td>\n    </tr>\n    <tr>\n      <th>8</th>\n      <td>广东</td>\n      <td>Rarely</td>\n      <td>247</td>\n    </tr>\n    <tr>\n      <th>9</th>\n      <td>广东</td>\n      <td>Possibly</td>\n      <td>91</td>\n    </tr>\n    <tr>\n      <th>10</th>\n      <td>广东</td>\n      <td>Very likely</td>\n      <td>16</td>\n    </tr>\n    <tr>\n      <th>11</th>\n      <td>广东</td>\n      <td>Probably</td>\n      <td>14</td>\n    </tr>\n    <tr>\n      <th>12</th>\n      <td>浙江</td>\n      <td>Rarely</td>\n      <td>196</td>\n    </tr>\n    <tr>\n      <th>13</th>\n      <td>浙江</td>\n      <td>Possibly</td>\n      <td>46</td>\n    </tr>\n    <tr>\n      <th>14</th>\n      <td>浙江</td>\n      <td>Very likely</td>\n      <td>14</td>\n    </tr>\n    <tr>\n      <th>15</th>\n      <td>浙江</td>\n      <td>Probably</td>\n      <td>8</td>\n    </tr>\n    <tr>\n      <th>16</th>\n      <td>海外</td>\n      <td>Rarely</td>\n      <td>728</td>\n    </tr>\n    <tr>\n      <th>17</th>\n      <td>海外</td>\n      <td>Possibly</td>\n      <td>218</td>\n    </tr>\n    <tr>\n      <th>18</th>\n      <td>海外</td>\n      <td>Very likely</td>\n      <td>52</td>\n    </tr>\n    <tr>\n      <th>19</th>\n      <td>海外</td>\n      <td>Probably</td>\n      <td>35</td>\n    </tr>\n  </tbody>\n</table>\n</div>"
     },
     "execution_count": 50,
     "metadata": {},
     "output_type": "execute_result"
    }
   ],
   "source": [
    "users_filtered = users_advanced[users_advanced['location'].isin(location_5)]\n",
    "location_extent = users_filtered.groupby('location')['ban_extent'].value_counts().reset_index(name='counts')\n",
    "location_extent"
   ],
   "metadata": {
    "collapsed": false,
    "pycharm": {
     "name": "#%%\n"
    }
   }
  },
  {
   "cell_type": "code",
   "execution_count": 51,
   "outputs": [],
   "source": [
    "extent = location_extent['ban_extent'].unique()\n",
    "count = []\n",
    "for i in extent:\n",
    "    count.append(location_extent.loc[location_extent['ban_extent'] == i]['counts'])"
   ],
   "metadata": {
    "collapsed": false,
    "pycharm": {
     "name": "#%%\n"
    }
   }
  },
  {
   "cell_type": "code",
   "execution_count": 52,
   "outputs": [],
   "source": [
    "for i in range(len(count)):\n",
    "    count[i] = count[i].to_numpy()"
   ],
   "metadata": {
    "collapsed": false,
    "pycharm": {
     "name": "#%%\n"
    }
   }
  },
  {
   "cell_type": "code",
   "execution_count": 53,
   "outputs": [],
   "source": [
    "list1 = []\n",
    "list2 = []\n",
    "list3 = []\n",
    "list4 = []\n",
    "list5 = []\n",
    "for i in range(len(count)):\n",
    "    list1.append(count[i][0])\n",
    "    list2.append(count[i][1])\n",
    "    list3.append(count[i][2])\n",
    "    list4.append(count[i][3])\n",
    "    list5.append(count[i][4])\n",
    "\n",
    "list1 = np.array(list1)\n",
    "list1 = list1/list1.sum()\n",
    "list1 = list1.tolist()\n",
    "list2 = np.array(list2)\n",
    "list2 = list2/list2.sum()\n",
    "list2 = list2.tolist()\n",
    "list3 = np.array(list3)\n",
    "list3 = list3/list3.sum()\n",
    "list3 = list3.tolist()\n",
    "list4 = np.array(list4)\n",
    "list4 = list4/list4.sum()\n",
    "list4 = list4.tolist()\n",
    "list5 = np.array(list5)\n",
    "list5 = list5/list5.sum()\n",
    "list5 = list5.tolist()"
   ],
   "metadata": {
    "collapsed": false,
    "pycharm": {
     "name": "#%%\n"
    }
   }
  },
  {
   "cell_type": "code",
   "execution_count": 54,
   "outputs": [],
   "source": [
    "extent = extent.tolist()"
   ],
   "metadata": {
    "collapsed": false,
    "pycharm": {
     "name": "#%%\n"
    }
   }
  },
  {
   "cell_type": "code",
   "execution_count": 55,
   "outputs": [],
   "source": [
    "name_location = location_extent['location'].unique()\n",
    "name_location = name_location.tolist()"
   ],
   "metadata": {
    "collapsed": false,
    "pycharm": {
     "name": "#%%\n"
    }
   }
  },
  {
   "cell_type": "code",
   "execution_count": 58,
   "outputs": [],
   "source": [
    "from pyecharts import options as opts\n",
    "from pyecharts.charts import Bar\n",
    "from pyecharts.faker import Faker\n",
    "Faker.choose()\n",
    "\n",
    "c = (\n",
    "    Bar()\n",
    "    .add_xaxis(extent)\n",
    "    .add_yaxis(\"%s\"%name_location[0], list1)\n",
    "    .add_yaxis(\"%s\"%name_location[1], list2)\n",
    "    .add_yaxis(\"%s\"%name_location[2], list3)\n",
    "    .add_yaxis(\"%s\"%name_location[3], list4)\n",
    "    .add_yaxis(\"%s\"%name_location[4], list5)\n",
    "    .set_global_opts(\n",
    "        title_opts=opts.TitleOpts(title=\"\\nTop 5 areas ban type distribution in percentage\", subtitle=\"\"),\n",
    "        brush_opts=opts.BrushOpts(),\n",
    "    )\n",
    "    .set_series_opts(label_opts=opts.LabelOpts(is_show=False))\n",
    "    .render(\"ban_topcities.html\")\n",
    ")\n"
   ],
   "metadata": {
    "collapsed": false,
    "pycharm": {
     "name": "#%%\n"
    }
   }
  },
  {
   "cell_type": "code",
   "execution_count": 204,
   "outputs": [
    {
     "data": {
      "text/plain": "[['上海', 31.06312292358804],\n ['北京', 30.02291825821238],\n ['四川', 31.967213114754102],\n ['广东', 32.880434782608695],\n ['江苏', 34.53237410071942],\n ['浙江', 25.757575757575758],\n ['湖北', 33.33333333333333],\n ['湖南', 22.807017543859647],\n ['福建', 20.73170731707317],\n ['重庆', 22.448979591836736],\n ['陕西', 38.775510204081634],\n ['香港', 43.13725490196079]]"
     },
     "execution_count": 204,
     "metadata": {},
     "output_type": "execute_result"
    }
   ],
   "source": [
    "# heat map based on the person\n",
    "location_ban_binary = users_advanced.groupby('location')['ban_binary'].count()\n",
    "raw_users = users_advanced.groupby('location')['ban_binary'].value_counts().reset_index(name = 'count')\n",
    "raw_users = raw_users.loc[raw_users['ban_binary']==True]\n",
    "count = raw_users['count']\n",
    "raw_users = raw_users[~raw_users['location'].isin(['unknown', '其他','海外'])]\n",
    "count = raw_users['count']\n",
    "count = count.reset_index(drop = True)\n",
    "\n",
    "location_ban_binary = location_ban_binary.drop(labels=['unknown', '其他','海外'])\n",
    "location_ban_binary = location_ban_binary.to_frame().reset_index()\n",
    "\n",
    "raw_users = raw_users.reset_index(drop=True)\n",
    "count_ = []\n",
    "for i in range(len(raw_users['count'])):\n",
    "    location = raw_users['location'][i]\n",
    "    count_.append(int(location_ban_binary[location_ban_binary['location'] == location]['ban_binary']))\n",
    "\n",
    "raw_users['total'] = count_\n",
    "raw_users = raw_users[raw_users['total']>=49]\n",
    "raw_user_location = raw_users['location'].to_frame().reset_index(drop = True)\n",
    "raw_user_location = raw_user_location.to_numpy().flatten()\n",
    "\n",
    "raw_users['percentile'] = raw_users['count'] / raw_users['total']*100\n",
    "\n",
    "\n",
    "raw_users = raw_users.drop(columns=['ban_binary','count','total'])\n",
    "raw_users = raw_users.reset_index(drop=True).values.tolist()\n",
    "raw_users"
   ],
   "metadata": {
    "collapsed": false,
    "pycharm": {
     "name": "#%%\n"
    }
   }
  },
  {
   "cell_type": "code",
   "source": [
    "#"
   ],
   "metadata": {
    "collapsed": false,
    "pycharm": {
     "name": "#%%\n"
    }
   },
   "execution_count": 166,
   "outputs": [
    {
     "data": {
      "text/plain": "[['上海', 0.3106312292358804],\n ['云南', 0.125],\n ['内蒙', 0.36363636363636365],\n ['北京', 0.3002291825821238],\n ['台湾', 0.19047619047619047],\n ['吉林', 0.42105263157894735],\n ['四川', 0.319672131147541],\n ['天津', 0.2857142857142857],\n ['安徽', 0.3333333333333333],\n ['山东', 0.391304347826087],\n ['山西', 0.5],\n ['广东', 0.328804347826087],\n ['广西', 0.2],\n ['新疆', 0.5],\n ['江苏', 0.34532374100719426],\n ['江西', 0.2727272727272727],\n ['河北', 0.47619047619047616],\n ['河南', 0.15625],\n ['浙江', 0.25757575757575757],\n ['湖北', 0.3333333333333333],\n ['湖南', 0.22807017543859648],\n ['澳门', 0.6666666666666666],\n ['甘肃', 0.375],\n ['福建', 0.2073170731707317],\n ['西藏', 0.5],\n ['贵州', 0.125],\n ['辽宁', 0.42857142857142855],\n ['重庆', 0.22448979591836735],\n ['陕西', 0.3877551020408163],\n ['香港', 0.43137254901960786],\n ['黑龙江', 0.07692307692307693]]"
     },
     "execution_count": 166,
     "metadata": {},
     "output_type": "execute_result"
    }
   ]
  },
  {
   "cell_type": "code",
   "execution_count": 185,
   "outputs": [],
   "source": [
    "from pyecharts import options as opts\n",
    "from pyecharts.charts import Map\n",
    "\n",
    "\n",
    "c = (\n",
    "    Map()\n",
    "    .add(\"Percentile\", raw_users, \"china\")\n",
    "    .set_global_opts(\n",
    "        title_opts=opts.TitleOpts(title=\"\\nPercentile of users been banned once or more\"),\n",
    "        visualmap_opts=opts.VisualMapOpts(max_=50),\n",
    "    )\n",
    "    .render('percentile_ban_location.html')\n",
    ")"
   ],
   "metadata": {
    "collapsed": false,
    "pycharm": {
     "name": "#%%\n"
    }
   }
  },
  {
   "cell_type": "code",
   "source": [
    "#\n",
    "data = []\n",
    "for i in range(len(raw_users)):\n",
    "    data.append(raw_users[i][1])"
   ],
   "metadata": {
    "collapsed": false,
    "pycharm": {
     "name": "#%%\n"
    }
   },
   "execution_count": 211,
   "outputs": [
    {
     "data": {
      "text/plain": "[31.06312292358804,\n 30.02291825821238,\n 31.967213114754102,\n 32.880434782608695,\n 34.53237410071942,\n 25.757575757575758,\n 33.33333333333333,\n 22.807017543859647,\n 20.73170731707317,\n 22.448979591836736,\n 38.775510204081634,\n 43.13725490196079]"
     },
     "execution_count": 211,
     "metadata": {},
     "output_type": "execute_result"
    }
   ]
  },
  {
   "cell_type": "code",
   "source": [
    "#\n",
    "raw_user_location"
   ],
   "metadata": {
    "collapsed": false,
    "pycharm": {
     "name": "#%%\n"
    }
   },
   "execution_count": 222,
   "outputs": [
    {
     "data": {
      "text/plain": "['上海', '北京', '四川', '广东', '江苏', '浙江', '湖北', '湖南', '福建', '重庆', '陕西', '香港']"
     },
     "execution_count": 222,
     "metadata": {},
     "output_type": "execute_result"
    }
   ]
  },
  {
   "cell_type": "code",
   "execution_count": 228,
   "outputs": [
    {
     "data": {
      "text/plain": "'C:\\\\Users\\\\pasaa\\\\Desktop\\\\440_data_processing\\\\bar_location_ban.html'"
     },
     "execution_count": 228,
     "metadata": {},
     "output_type": "execute_result"
    }
   ],
   "source": [
    "import pyecharts.options as opts\n",
    "from pyecharts.charts import Bar\n",
    "\n",
    "bar = (\n",
    "    Bar()\n",
    "    .add_xaxis(raw_user_location)\n",
    "    .add_yaxis('Loation', data)\n",
    "    .set_series_opts(label_opts=opts.LabelOpts(is_show=False))\n",
    "    .set_global_opts(title_opts=opts.TitleOpts(title='\\nPercentile of users whose reposts had been censored',\n",
    "                                               title_textstyle_opts=opts.TextStyleOpts(font_size=12)),\n",
    "                     xaxis_opts=opts.AxisOpts(name='Location'),\n",
    "                     yaxis_opts=opts.AxisOpts(name='Unit(percentile)'))\n",
    ")\n",
    "bar.render('bar_location_ban.html')"
   ],
   "metadata": {
    "collapsed": false,
    "pycharm": {
     "name": "#%%\n"
    }
   }
  },
  {
   "cell_type": "code",
   "source": [
    "#\n",
    "raw_users"
   ],
   "metadata": {
    "collapsed": false,
    "pycharm": {
     "name": "#%%\n"
    }
   },
   "execution_count": 187,
   "outputs": [
    {
     "data": {
      "text/plain": "[['上海', 31.06312292358804],\n ['北京', 30.02291825821238],\n ['四川', 31.967213114754102],\n ['广东', 32.880434782608695],\n ['江苏', 34.53237410071942],\n ['浙江', 25.757575757575758],\n ['湖北', 33.33333333333333],\n ['湖南', 22.807017543859647],\n ['福建', 20.73170731707317],\n ['重庆', 22.448979591836736],\n ['陕西', 38.775510204081634],\n ['香港', 43.13725490196079]]"
     },
     "execution_count": 187,
     "metadata": {},
     "output_type": "execute_result"
    }
   ]
  },
  {
   "cell_type": "code",
   "execution_count": 250,
   "outputs": [
    {
     "data": {
      "text/plain": "[['Apple', 914],\n ['Huawei', 104],\n ['Nokia', 1],\n ['Oppo', 10],\n ['Samsung', 2],\n ['Vivo', 7],\n ['Xiaomi', 23],\n ['web', 330]]"
     },
     "execution_count": 250,
     "metadata": {},
     "output_type": "execute_result"
    }
   ],
   "source": [
    "per_device = users.groupby('device')['ban_binary'].value_counts().drop(labels = 'else').reset_index(name = \"count\")\n",
    "per_device = per_device[per_device['ban_binary'] == True].reset_index(drop=True)\n",
    "\n",
    "per_device = per_device.drop(columns='ban_binary').values.tolist()\n",
    "per_device\n",
    "\n"
   ],
   "metadata": {
    "collapsed": false,
    "pycharm": {
     "name": "#%%\n"
    }
   }
  },
  {
   "cell_type": "code",
   "execution_count": 252,
   "outputs": [],
   "source": [
    "from pyecharts import options as opts\n",
    "from pyecharts.charts import Pie\n",
    "from pyecharts.faker import Faker\n",
    "\n",
    "c = (\n",
    "    Pie()\n",
    "    .add(\n",
    "        \"\",\n",
    "        per_device,\n",
    "        radius=[\"40%\", \"55%\"],\n",
    "        label_opts=opts.LabelOpts(\n",
    "            position=\"outside\",\n",
    "            formatter=\"{a|{a}}{abg|}\\n{hr|}\\n {b|{b}: }{c}  {per|{d}%}  \",\n",
    "            background_color=\"#eee\",\n",
    "            border_color=\"#aaa\",\n",
    "            border_width=1,\n",
    "            border_radius=4,\n",
    "            rich={\n",
    "                \"a\": {\"color\": \"#999\", \"lineHeight\": 22, \"align\": \"center\"},\n",
    "                \"abg\": {\n",
    "                    \"backgroundColor\": \"#e3e3e3\",\n",
    "                    \"width\": \"100%\",\n",
    "                    \"align\": \"right\",\n",
    "                    \"height\": 22,\n",
    "                    \"borderRadius\": [4, 4, 0, 0],\n",
    "                },\n",
    "                \"hr\": {\n",
    "                    \"borderColor\": \"#aaa\",\n",
    "                    \"width\": \"100%\",\n",
    "                    \"borderWidth\": 0.5,\n",
    "                    \"height\": 0,\n",
    "                },\n",
    "                \"b\": {\"fontSize\": 16, \"lineHeight\": 33},\n",
    "                \"per\": {\n",
    "                    \"color\": \"#eee\",\n",
    "                    \"backgroundColor\": \"#334455\",\n",
    "                    \"padding\": [2, 4],\n",
    "                    \"borderRadius\": 2,\n",
    "                },\n",
    "            },\n",
    "        ),\n",
    "    )\n",
    "    .set_global_opts(title_opts=opts.TitleOpts(title=\"\\nShare of devices users used to repost banned contents\"))\n",
    "    .render(\"device_banper.html\")\n",
    ")"
   ],
   "metadata": {
    "collapsed": false,
    "pycharm": {
     "name": "#%%\n"
    }
   }
  },
  {
   "cell_type": "code",
   "execution_count": 243,
   "outputs": [
    {
     "data": {
      "text/plain": "[['Apple', 1991.0],\n ['Huawei', 208.0],\n ['Nokia', 1.0],\n ['Oppo', 18.0],\n ['Samsung', 2.0],\n ['Vivo', 26.0],\n ['Xiaomi', 38.0],\n ['web', 724.0]]"
     },
     "execution_count": 243,
     "metadata": {},
     "output_type": "execute_result"
    }
   ],
   "source": [
    "device_ban_count"
   ],
   "metadata": {
    "collapsed": false,
    "pycharm": {
     "name": "#%%\n"
    }
   }
  },
  {
   "cell_type": "code",
   "execution_count": null,
   "outputs": [],
   "source": [],
   "metadata": {
    "collapsed": false,
    "pycharm": {
     "name": "#%%"
    }
   }
  }
 ],
 "metadata": {
  "kernelspec": {
   "display_name": "Python 3",
   "language": "python",
   "name": "python3"
  },
  "language_info": {
   "codemirror_mode": {
    "name": "ipython",
    "version": 3
   },
   "file_extension": ".py",
   "mimetype": "text/x-python",
   "name": "python",
   "nbconvert_exporter": "python",
   "pygments_lexer": "ipython3",
   "version": "3.8.3"
  }
 },
 "nbformat": 4,
 "nbformat_minor": 4
}